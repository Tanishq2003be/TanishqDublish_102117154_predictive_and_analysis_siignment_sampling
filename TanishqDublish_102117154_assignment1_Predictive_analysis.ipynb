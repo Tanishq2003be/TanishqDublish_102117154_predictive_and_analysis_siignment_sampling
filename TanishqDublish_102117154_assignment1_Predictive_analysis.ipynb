{
  "nbformat": 4,
  "nbformat_minor": 0,
  "metadata": {
    "colab": {
      "provenance": []
    },
    "kernelspec": {
      "name": "python3",
      "display_name": "Python 3"
    },
    "language_info": {
      "name": "python"
    }
  },
  "cells": [
    {
      "cell_type": "code",
      "execution_count": 4,
      "metadata": {
        "colab": {
          "base_uri": "https://localhost:8080/"
        },
        "id": "LC6n9VBRABBz",
        "outputId": "72bba1b3-0d55-46e2-a16c-59bc86aecb82"
      },
      "outputs": [
        {
          "output_type": "stream",
          "name": "stdout",
          "text": [
            "Class Distribution Before Sampling:\n",
            "0    763\n",
            "1      9\n",
            "Name: Class, dtype: int64\n",
            "\n",
            "Class Distribution After Sampling:\n",
            "0    763\n",
            "1    763\n",
            "Name: Class, dtype: int64\n",
            "\n",
            "Original Dataset Shape: (772, 31)\n",
            "Resampled Dataset Shape: (1526, 31)\n"
          ]
        }
      ],
      "source": [
        "import pandas as pd\n",
        "from imblearn.over_sampling import RandomOverSampler\n",
        "\n",
        "\n",
        "df = pd.read_csv('Creditcard_data.csv')\n",
        "\n",
        "X = df.drop('Class', axis=1)\n",
        "y = df['Class']\n",
        "\n",
        "\n",
        "print(\"Class Distribution Before Sampling:\")\n",
        "print(y.value_counts())\n",
        "\n",
        "# Apply random oversampling\n",
        "ros = RandomOverSampler(random_state=42)\n",
        "X_resampled, y_resampled = ros.fit_resample(X, y)\n",
        "\n",
        "\n",
        "df_resampled = pd.concat([pd.DataFrame(X_resampled), pd.Series(y_resampled, name='Class')], axis=1)\n",
        "\n",
        "\n",
        "print(\"\\nClass Distribution After Sampling:\")\n",
        "print(pd.Series(y_resampled).value_counts())\n",
        "\n",
        "df_resampled.to_csv('balancedCreditcard.csv', index=False)\n",
        "\n",
        "print(\"\\nOriginal Dataset Shape:\", df.shape)\n",
        "print(\"Resampled Dataset Shape:\", df_resampled.shape)\n"
      ]
    },
    {
      "cell_type": "code",
      "source": [
        "#simple random sampling\n",
        "\n",
        "import pandas as pd\n",
        "import random\n",
        "import math\n",
        "from scipy import stats\n",
        "\n",
        "file_path = 'balancedCreditcard.csv'\n",
        "df = pd.read_csv(file_path)\n",
        "\n",
        "total_rows = len(df)\n",
        "\n",
        "confidence_level = 0.95\n",
        "margin_of_error = 0.05\n",
        "p_estimate = 0.5\n",
        "z_score = round(stats.norm.ppf((1 + confidence_level) / 2), 2)\n",
        "\n",
        "sample_size_simple_random = math.ceil((z_score**2 * p_estimate * (1 - p_estimate)) / margin_of_error**2)\n",
        "\n",
        "random_sample = df.sample(n=sample_size_simple_random, random_state=random.randint(1, 1000))\n",
        "\n",
        "print(f\"Simple Random Sample:\")\n",
        "print(random_sample)\n",
        "\n",
        "random_sample.to_csv('simple_random_sample.csv', index=False)\n"
      ],
      "metadata": {
        "colab": {
          "base_uri": "https://localhost:8080/"
        },
        "id": "ewKiaGN9CzMX",
        "outputId": "ccca1c41-5728-439c-93e8-e7ee9d5edb5c"
      },
      "execution_count": 32,
      "outputs": [
        {
          "output_type": "stream",
          "name": "stdout",
          "text": [
            "Simple Random Sample:\n",
            "      Time        V1        V2        V3        V4        V5        V6  \\\n",
            "1384   164  0.073497  0.551033  0.451890  0.114964  0.822947  0.251480   \n",
            "206    137  0.753308 -1.131593  0.878730  0.297871 -1.327250  0.066596   \n",
            "1282   529 -2.000567 -2.495484  2.467149  1.140053  2.462010  0.594262   \n",
            "495    365 -1.209437  0.949446 -0.429811 -2.640094  2.601387  3.056966   \n",
            "52      36 -1.169422  1.158314  1.406800  0.860189 -0.103810  0.122035   \n",
            "...    ...       ...       ...       ...       ...       ...       ...   \n",
            "721    545 -1.030747  0.894747  2.375620  0.218372 -0.862126 -0.180483   \n",
            "755    564 -2.422708  2.544338 -0.509210  0.084550 -1.431677 -1.265684   \n",
            "546    409  1.243758 -0.777764  1.016830 -0.250546 -1.268555  0.137280   \n",
            "625    476 -0.867554 -0.418633  2.294927  0.219870 -0.085820 -0.839204   \n",
            "502    369  0.953918 -0.760595  1.091611  0.147115 -0.729796  1.430148   \n",
            "\n",
            "            V7        V8        V9  ...       V21       V22       V23  \\\n",
            "1384  0.296319  0.139497 -0.123050  ... -0.128758 -0.381932  0.151012   \n",
            "206  -0.535276  0.171133  1.184602  ...  0.031912 -0.213298 -0.091660   \n",
            "1282 -2.110183  0.788347  0.958809  ...  0.422452  1.195394  0.297836   \n",
            "495   0.473495  0.280729  0.853043  ... -0.214920 -0.449815 -0.088677   \n",
            "52    0.264451 -0.108767 -0.181977  ...  0.024498 -0.120153  0.212986   \n",
            "...        ...       ...       ...  ...       ...       ...       ...   \n",
            "721  -0.260299  0.592381 -0.017765  ...  0.006203  0.020326 -0.216072   \n",
            "755  -0.776953  1.697062 -0.399877  ... -0.196938 -0.855361  0.224607   \n",
            "546  -1.057919  0.009986 -0.460486  ... -0.142455  0.042134 -0.125057   \n",
            "625  -0.724947  0.221812  0.423738  ...  0.231306  0.547470 -0.001608   \n",
            "502  -1.070470  0.727965  1.432734  ... -0.098744 -0.015598  0.248461   \n",
            "\n",
            "           V24       V25       V26       V27       V28  Amount  Class  \n",
            "1384 -1.363967 -1.389079  0.075412  0.231750  0.230171    0.99      1  \n",
            "206   0.151837 -0.067673  0.999073 -0.063985  0.049174  226.07      0  \n",
            "1282 -0.857105 -0.219322  0.861019 -0.124622 -0.171060    1.50      1  \n",
            "495   1.030439 -0.048967  0.671979 -0.612153 -0.224000    0.68      0  \n",
            "52    0.087536 -0.946530  0.226700 -0.810101  0.234957    7.99      0  \n",
            "...        ...       ...       ...       ...       ...     ...    ...  \n",
            "721   0.435670  0.192864  0.351030 -0.066266  0.005583    3.98      0  \n",
            "755   0.305455  0.065001  0.096890  0.072786  0.004235    9.99      0  \n",
            "546  -0.403785  0.212596  0.619155  0.035518  0.041399   72.00      0  \n",
            "625   0.461131 -0.504834  1.146692  0.061651  0.146244    1.00      0  \n",
            "502  -0.596979 -0.291046  1.053935  0.021906  0.003337   32.63      0  \n",
            "\n",
            "[385 rows x 31 columns]\n"
          ]
        }
      ]
    },
    {
      "cell_type": "code",
      "source": [
        "#systematic sampling\n",
        "\n",
        "import pandas as pd\n",
        "import math\n",
        "\n",
        "\n",
        "df = pd.read_csv(\"balancedCreditcard.csv\")\n",
        "\n",
        "\n",
        "n = len(df)\n",
        "\n",
        "k = int(math.sqrt(n))\n",
        "\n",
        "\n",
        "sample = df.iloc[::k]\n",
        "\n",
        "\n",
        "print(sample.head())\n",
        "\n",
        "sample.to_csv('systematic_sample.csv', index=False)"
      ],
      "metadata": {
        "colab": {
          "base_uri": "https://localhost:8080/"
        },
        "id": "gos2wwmNFjXs",
        "outputId": "a263d730-9f72-4ad8-cbce-7065ce7711f7"
      },
      "execution_count": 30,
      "outputs": [
        {
          "output_type": "stream",
          "name": "stdout",
          "text": [
            "     Time        V1        V2        V3        V4        V5        V6  \\\n",
            "0       0 -1.359807 -0.072781  2.536347  1.378155 -0.338321  0.462388   \n",
            "39     29  1.110880  0.168717  0.517144  1.325407 -0.191573  0.019504   \n",
            "78     50 -0.571521  1.071600  1.280110  0.542780  0.574439 -0.259359   \n",
            "117    76 -1.024576  0.522289  1.787699  0.202672 -1.140803 -0.137831   \n",
            "156    98 -0.646513  1.004199  1.616224 -0.099628 -0.122477 -0.671327   \n",
            "\n",
            "           V7        V8        V9  ...       V21       V22       V23  \\\n",
            "0    0.239599  0.098698  0.363787  ... -0.018307  0.277838 -0.110474   \n",
            "39  -0.031849  0.117620  0.017665  ... -0.037709  0.095701 -0.048198   \n",
            "78   1.061148 -0.410972 -0.179130  ...  0.003559  0.561240 -0.199287   \n",
            "117 -0.336555  0.670704  0.071670  ...  0.315868  0.847565  0.148877   \n",
            "156  0.656183  0.009755 -0.635963  ... -0.147934 -0.420046  0.061424   \n",
            "\n",
            "          V24       V25       V26       V27       V28  Amount  Class  \n",
            "0    0.066928  0.128539 -0.189115  0.133558 -0.021053  149.62      0  \n",
            "39   0.232115  0.606201 -0.342097  0.036770  0.007480    6.54      0  \n",
            "78   0.001387 -0.179530 -0.374116  0.071641 -0.175510    9.79      0  \n",
            "117  0.549791 -0.585131  0.325841 -0.068871  0.059713   50.00      0  \n",
            "156  0.520997 -0.238845  0.030135  0.140481  0.101163   14.98      0  \n",
            "\n",
            "[5 rows x 31 columns]\n"
          ]
        }
      ]
    },
    {
      "cell_type": "code",
      "source": [
        "#STRATIFIED SAMPLING\n",
        "\n",
        "import pandas as pd\n",
        "import random\n",
        "import math\n",
        "from scipy import stats\n",
        "\n",
        "file_path = 'balancedCreditcard.csv'\n",
        "df = pd.read_csv(file_path)\n",
        "\n",
        "total_rows = len(df)\n",
        "\n",
        "confidence_level = 0.95\n",
        "margin_of_error = 0.05\n",
        "p_estimate = 0.5\n",
        "strata_proportion = 0.2\n",
        "\n",
        "z_score = round(stats.norm.ppf((1 + confidence_level) / 2), 2)\n",
        "\n",
        "sample_size_stratified = math.ceil(\n",
        "    (z_score**2 * p_estimate * (1 - p_estimate)) / (margin_of_error**2 / strata_proportion)\n",
        ")\n",
        "\n",
        "strata_names = df['Class'].unique()\n",
        "stratified_sample = pd.DataFrame()\n",
        "\n",
        "for stratum_name in strata_names:\n",
        "    stratum_df = df[df['Class'] == stratum_name]\n",
        "    stratum_sample_size = math.ceil(sample_size_stratified * (len(stratum_df) / total_rows))\n",
        "\n",
        "    # Randomly select rows from each stratum\n",
        "    stratum_sample = stratum_df.sample(n=stratum_sample_size, random_state=random.randint(1, 1000))\n",
        "    stratified_sample = pd.concat([stratified_sample, stratum_sample])\n",
        "\n",
        "print(\"Stratified Sample:\")\n",
        "print(stratified_sample)\n",
        "\n",
        "\n",
        "stratified_sample.to_csv('stratified_sample.csv', index=False)"
      ],
      "metadata": {
        "colab": {
          "base_uri": "https://localhost:8080/"
        },
        "id": "Z8yJ2kLuGOzt",
        "outputId": "b644b34a-9e0c-480a-da4f-f03540a8d9c9"
      },
      "execution_count": 28,
      "outputs": [
        {
          "output_type": "stream",
          "name": "stdout",
          "text": [
            "Stratified Sample:\n",
            "      Time        V1        V2        V3        V4        V5        V6  \\\n",
            "470    346 -0.928193  0.671758  1.924616  0.273755  1.041108  0.136930   \n",
            "538    404  0.638806  1.772451 -1.748258  1.297700  1.785872 -1.050197   \n",
            "627    478 -0.394364  0.962489  1.164111 -0.110028  0.221216 -0.526324   \n",
            "747    559  0.940965 -1.868811  0.426719 -1.717117 -1.861869 -0.357676   \n",
            "524    388  0.199489  0.705636  1.398115  1.219647  0.149196 -0.698932   \n",
            "...    ...       ...       ...       ...       ...       ...       ...   \n",
            "861    118  1.254914  0.350287  0.302488  0.693114 -0.371470 -1.070256   \n",
            "1354     0  1.191857  0.266151  0.166480  0.448154  0.060018 -0.082361   \n",
            "1131   574  1.257719  0.364739  0.306923  0.690638 -0.357792 -1.067481   \n",
            "1254   539 -1.738582  0.052740  1.187057 -0.656652  0.920623 -0.291788   \n",
            "1080   118  1.254914  0.350287  0.302488  0.693114 -0.371470 -1.070256   \n",
            "\n",
            "            V7        V8        V9  ...       V21       V22       V23  \\\n",
            "470   0.361483  0.143337 -0.682134  ... -0.115034 -0.424494 -0.194916   \n",
            "538   1.485730 -0.780631  0.416991  ... -0.359613 -0.061540 -0.051428   \n",
            "627   0.505040  0.147743 -0.499457  ... -0.240069 -0.709400 -0.051337   \n",
            "747  -0.767728 -0.039816  1.200838  ... -0.446134 -1.003234 -0.181037   \n",
            "524  -0.551006 -0.872024 -0.370324  ...  0.640890 -0.701341 -0.757939   \n",
            "...        ...       ...       ...  ...       ...       ...       ...   \n",
            "861   0.086781 -0.202836  0.035154  ... -0.287592 -0.832682  0.128083   \n",
            "1354 -0.078803  0.085102 -0.255425  ... -0.225775 -0.638672  0.101288   \n",
            "1131  0.094272 -0.210300  0.014455  ... -0.286856 -0.820658  0.127663   \n",
            "1254  0.269083  0.140631  0.023464  ... -0.179545 -0.192036 -0.261879   \n",
            "1080  0.086781 -0.202836  0.035154  ... -0.287592 -0.832682  0.128083   \n",
            "\n",
            "           V24       V25       V26       V27       V28  Amount  Class  \n",
            "470  -0.783830  0.310156 -0.512783  0.084721  0.082173    5.00      0  \n",
            "538  -0.764738 -0.424181 -0.418629 -0.003258 -0.541237    0.99      0  \n",
            "627  -0.071240 -0.173978  0.077661  0.234553  0.083875    1.79      0  \n",
            "747  -0.105475  0.271430 -0.092695  0.028733  0.063535  242.15      0  \n",
            "524   0.639510  0.147696 -0.544986  0.274528  0.280555    9.99      0  \n",
            "...        ...       ...       ...       ...       ...     ...    ...  \n",
            "861   0.339427  0.215944  0.094704 -0.023354  0.030892    2.69      1  \n",
            "1354 -0.339846  0.167170  0.125895 -0.008983  0.014724    2.69      1  \n",
            "1131  0.343128  0.221120  0.094391 -0.022189  0.030944    1.29      1  \n",
            "1254 -0.237477 -0.335040  0.240323 -0.345129 -0.383563    1.00      1  \n",
            "1080  0.339427  0.215944  0.094704 -0.023354  0.030892    2.69      1  \n",
            "\n",
            "[78 rows x 31 columns]\n"
          ]
        }
      ]
    },
    {
      "cell_type": "code",
      "source": [
        "#cluster sampling\n",
        "\n",
        "import pandas as pd\n",
        "import random\n",
        "import math\n",
        "from scipy import stats\n",
        "\n",
        "file_path = 'balancedCreditcard.csv'\n",
        "df = pd.read_csv(file_path)\n",
        "\n",
        "total_rows = len(df)\n",
        "\n",
        "confidence_level = 0.95\n",
        "margin_of_error = 0.05\n",
        "p_estimate = 0.5\n",
        "cluster_size = 10  # You can adjust this based on your cluster size\n",
        "z_score = round(stats.norm.ppf((1 + confidence_level) / 2), 2)\n",
        "\n",
        "sample_size_clustered = math.ceil(\n",
        "    (z_score**2 * p_estimate * (1 - p_estimate)) / (margin_of_error**2 / cluster_size)\n",
        ")\n",
        "\n",
        "cluster_sample = pd.DataFrame()\n",
        "\n",
        "for i in range(sample_size_clustered):\n",
        "    cluster_data = df.sample(n=cluster_size, random_state=random.randint(1, 1000))\n",
        "    cluster_sample = pd.concat([cluster_sample, cluster_data])\n",
        "\n",
        "print(\"Cluster Sample:\")\n",
        "print(cluster_sample)\n",
        "\n",
        "cluster_sample.to_csv('cluster_sample.csv', index=False)\n"
      ],
      "metadata": {
        "colab": {
          "base_uri": "https://localhost:8080/"
        },
        "id": "QtrN5ek-HaC8",
        "outputId": "854d1ef6-e99b-45c1-ec07-599a5b866109"
      },
      "execution_count": 27,
      "outputs": [
        {
          "output_type": "stream",
          "name": "stdout",
          "text": [
            "Cluster Sample:\n",
            "      Time        V1        V2        V3        V4        V5        V6  \\\n",
            "1220     0  1.191857  0.266151  0.166480  0.448154  0.060018 -0.082361   \n",
            "799    574  1.257719  0.364739  0.306923  0.690638 -0.357792 -1.067481   \n",
            "1416     0  1.191857  0.266151  0.166480  0.448154  0.060018 -0.082361   \n",
            "121     77 -0.427191  0.745708  1.761811 -0.165130  0.058298 -0.213413   \n",
            "1415   539 -1.738582  0.052740  1.187057 -0.656652  0.920623 -0.291788   \n",
            "...    ...       ...       ...       ...       ...       ...       ...   \n",
            "352    259 -0.363608  1.104008  1.300678  0.070314  0.075180 -1.010396   \n",
            "1220     0  1.191857  0.266151  0.166480  0.448154  0.060018 -0.082361   \n",
            "1233   472 -3.043541 -3.157307  1.088463  2.288644  1.359805 -1.064823   \n",
            "1471   529 -2.000567 -2.495484  2.467149  1.140053  2.462010  0.594262   \n",
            "837    472 -3.043541 -3.157307  1.088463  2.288644  1.359805 -1.064823   \n",
            "\n",
            "            V7        V8        V9  ...       V21       V22       V23  \\\n",
            "1220 -0.078803  0.085102 -0.255425  ... -0.225775 -0.638672  0.101288   \n",
            "799   0.094272 -0.210300  0.014455  ... -0.286856 -0.820658  0.127663   \n",
            "1416 -0.078803  0.085102 -0.255425  ... -0.225775 -0.638672  0.101288   \n",
            "121   0.647323  0.073464 -0.291864  ... -0.201681 -0.432070  0.013164   \n",
            "1415  0.269083  0.140631  0.023464  ... -0.179545 -0.192036 -0.261879   \n",
            "...        ...       ...       ...  ...       ...       ...       ...   \n",
            "352   0.683396 -0.073378 -0.401866  ... -0.261158 -0.685436 -0.013662   \n",
            "1220 -0.078803  0.085102 -0.255425  ... -0.225775 -0.638672  0.101288   \n",
            "1233  0.325574 -0.067794 -0.270953  ...  0.661696  0.435477  1.375966   \n",
            "1471 -2.110183  0.788347  0.958809  ...  0.422452  1.195394  0.297836   \n",
            "837   0.325574 -0.067794 -0.270953  ...  0.661696  0.435477  1.375966   \n",
            "\n",
            "           V24       V25       V26       V27       V28  Amount  Class  \n",
            "1220 -0.339846  0.167170  0.125895 -0.008983  0.014724    2.69      1  \n",
            "799   0.343128  0.221120  0.094391 -0.022189  0.030944    1.29      1  \n",
            "1416 -0.339846  0.167170  0.125895 -0.008983  0.014724    2.69      1  \n",
            "121   0.161606 -0.401310  0.047423  0.102549 -0.116571    9.12      0  \n",
            "1415 -0.237477 -0.335040  0.240323 -0.345129 -0.383563    1.00      1  \n",
            "...        ...       ...       ...       ...       ...     ...    ...  \n",
            "352   0.336313 -0.157577  0.071699  0.245539  0.099037    0.99      0  \n",
            "1220 -0.339846  0.167170  0.125895 -0.008983  0.014724    2.69      1  \n",
            "1233 -0.293803  0.279798 -0.145362 -0.252773  0.035764  529.00      1  \n",
            "1471 -0.857105 -0.219322  0.861019 -0.124622 -0.171060    1.50      1  \n",
            "837  -0.293803  0.279798 -0.145362 -0.252773  0.035764  529.00      1  \n",
            "\n",
            "[38420 rows x 31 columns]\n"
          ]
        }
      ]
    },
    {
      "cell_type": "code",
      "source": [
        "#convinience sampling\n",
        "\n",
        "import random\n",
        "import math\n",
        "\n",
        "\n",
        "confidence_level = 0.95\n",
        "margin_of_error = 0.05\n",
        "p_estimate = 0.5\n",
        "z_score = round(stats.norm.ppf((1 + confidence_level) / 2), 2)\n",
        "\n",
        "\n",
        "sample_size_convenience = math.ceil((z_score**2 * p_estimate * (1 - p_estimate)) / margin_of_error**2)\n",
        "\n",
        "\n",
        "convenience_sample = df.sample(n=sample_size_convenience, random_state=random.randint(1, 1000))\n",
        "\n",
        "print(f\"Convenience Sample:\")\n",
        "print(convenience_sample)\n",
        "\n",
        "convenience_sample.to_csv('convenience_sample.csv', index=False)\n"
      ],
      "metadata": {
        "colab": {
          "base_uri": "https://localhost:8080/"
        },
        "id": "CtfPAGuEIaHO",
        "outputId": "098c866a-1387-4692-cd15-126a508cca05"
      },
      "execution_count": 26,
      "outputs": [
        {
          "output_type": "stream",
          "name": "stdout",
          "text": [
            "Convenience Sample:\n",
            "      Time        V1        V2        V3        V4        V5        V6  \\\n",
            "224    147  0.912979 -0.653000  0.298165  0.209546 -0.197231  0.971100   \n",
            "1366   472 -3.043541 -3.157307  1.088463  2.288644  1.359805 -1.064823   \n",
            "1410   529 -2.000567 -2.495484  2.467149  1.140053  2.462010  0.594262   \n",
            "728    550  1.101844 -0.174473  0.446908  0.899499 -0.666440 -0.697084   \n",
            "1477   164  0.073497  0.551033  0.451890  0.114964  0.822947  0.251480   \n",
            "...    ...       ...       ...       ...       ...       ...       ...   \n",
            "610    460 -2.400261 -1.383754  1.610151 -2.452649 -0.592392 -0.041593   \n",
            "1475   484 -0.928088  0.398194  1.741131  0.182673  0.966387 -0.901004   \n",
            "1042   406 -2.312227  1.951992 -1.609851  3.997906 -0.522188 -1.426545   \n",
            "526    389  1.228478 -1.097948  1.629013 -0.005550 -1.969868  0.250276   \n",
            "436    313 -1.038356  0.756122  0.719942  0.988402 -0.237290 -0.378862   \n",
            "\n",
            "            V7        V8        V9  ...       V21       V22       V23  \\\n",
            "224  -0.449461  0.281896  0.262493  ...  0.089258 -0.077306 -0.237707   \n",
            "1366  0.325574 -0.067794 -0.270953  ...  0.661696  0.435477  1.375966   \n",
            "1410 -2.110183  0.788347  0.958809  ...  0.422452  1.195394  0.297836   \n",
            "728   0.030418 -0.121760  0.539945  ... -0.197925 -0.567183 -0.040194   \n",
            "1477  0.296319  0.139497 -0.123050  ... -0.128758 -0.381932  0.151012   \n",
            "...        ...       ...       ...  ...       ...       ...       ...   \n",
            "610  -0.554247  0.090479 -1.852860  ... -0.223480  0.484416  0.318866   \n",
            "1475  0.879016 -0.156590 -0.142117  ...  0.066353  0.281378 -0.257966   \n",
            "1042 -2.537387  1.391657 -2.770089  ...  0.517232 -0.035049 -0.465211   \n",
            "526  -1.381782  0.174507  0.641162  ... -0.526064 -0.566475  0.045969   \n",
            "436   0.413668  0.436787 -0.448178  ...  0.189550  0.477872  0.298492   \n",
            "\n",
            "           V24       V25       V26       V27       V28  Amount  Class  \n",
            "224  -1.301415  0.179599  0.469956 -0.024739  0.028338  170.43      0  \n",
            "1366 -0.293803  0.279798 -0.145362 -0.252773  0.035764  529.00      1  \n",
            "1410 -0.857105 -0.219322  0.861019 -0.124622 -0.171060    1.50      1  \n",
            "728   0.412944  0.411435  0.263744 -0.038703  0.023469   74.22      0  \n",
            "1477 -1.363967 -1.389079  0.075412  0.231750  0.230171    0.99      1  \n",
            "...        ...       ...       ...       ...       ...     ...    ...  \n",
            "610  -0.326228  0.587978 -0.126954  0.123830  0.485189   79.00      0  \n",
            "1475  0.385384  0.391117 -0.453853 -0.104448 -0.125765    1.00      1  \n",
            "1042  0.320198  0.044519  0.177840  0.261145 -0.143276    0.00      1  \n",
            "526   0.475350  0.164650  1.069437  0.027740  0.026680   29.95      0  \n",
            "436   0.029368 -0.300420 -0.294100 -0.009905  0.038861   68.00      0  \n",
            "\n",
            "[385 rows x 31 columns]\n"
          ]
        }
      ]
    },
    {
      "cell_type": "code",
      "source": [
        "import pandas as pd\n",
        "from sklearn.model_selection import train_test_split\n",
        "from sklearn.linear_model import LogisticRegression\n",
        "from sklearn.tree import DecisionTreeClassifier\n",
        "from sklearn.svm import SVC\n",
        "from sklearn.ensemble import RandomForestClassifier\n",
        "from sklearn.neural_network import MLPClassifier\n",
        "from sklearn.metrics import accuracy_score\n",
        "\n",
        "\n",
        "df = pd.read_csv('simple_random_sample.csv')\n",
        "\n",
        "\n",
        "X = df.drop('Class', axis=1)\n",
        "y = df['Class']\n",
        "\n",
        "\n",
        "X_train, X_test, y_train, y_test = train_test_split(X, y, test_size=0.2, random_state=42)\n",
        "\n",
        "# Train models\n",
        "logistic_model = LogisticRegression()\n",
        "logistic_model.fit(X_train, y_train)\n",
        "\n",
        "tree_model = DecisionTreeClassifier()\n",
        "tree_model.fit(X_train, y_train)\n",
        "\n",
        "svm_model = SVC()\n",
        "svm_model.fit(X_train, y_train)\n",
        "\n",
        "rf_model = RandomForestClassifier()\n",
        "rf_model.fit(X_train, y_train)\n",
        "\n",
        "nn_model = MLPClassifier()\n",
        "nn_model.fit(X_train, y_train)\n",
        "\n",
        "# Evaluate models\n",
        "logistic_accuracy = accuracy_score(y_test, logistic_model.predict(X_test))\n",
        "tree_accuracy = accuracy_score(y_test, tree_model.predict(X_test))\n",
        "svm_accuracy = accuracy_score(y_test, svm_model.predict(X_test))\n",
        "rf_accuracy = accuracy_score(y_test, rf_model.predict(X_test))\n",
        "nn_accuracy = accuracy_score(y_test, nn_model.predict(X_test))\n",
        "\n",
        "# Compare model performances\n",
        "print(f'Logistic Regression Accuracy: {logistic_accuracy}')\n",
        "print(f'Decision Tree Accuracy: {tree_accuracy}')\n",
        "print(f'Support Vector Machine Accuracy: {svm_accuracy}')\n",
        "print(f'Random Forest Accuracy: {rf_accuracy}')\n",
        "print(f'Neural Network Accuracy: {nn_accuracy}')\n"
      ],
      "metadata": {
        "colab": {
          "base_uri": "https://localhost:8080/"
        },
        "id": "q3uT7jS-Ibxy",
        "outputId": "1dc59421-8771-4e95-bc5a-ebfca687fc0b"
      },
      "execution_count": 44,
      "outputs": [
        {
          "output_type": "stream",
          "name": "stderr",
          "text": [
            "/usr/local/lib/python3.10/dist-packages/sklearn/linear_model/_logistic.py:458: ConvergenceWarning: lbfgs failed to converge (status=1):\n",
            "STOP: TOTAL NO. of ITERATIONS REACHED LIMIT.\n",
            "\n",
            "Increase the number of iterations (max_iter) or scale the data as shown in:\n",
            "    https://scikit-learn.org/stable/modules/preprocessing.html\n",
            "Please also refer to the documentation for alternative solver options:\n",
            "    https://scikit-learn.org/stable/modules/linear_model.html#logistic-regression\n",
            "  n_iter_i = _check_optimize_result(\n"
          ]
        },
        {
          "output_type": "stream",
          "name": "stdout",
          "text": [
            "Logistic Regression Accuracy: 0.922077922077922\n",
            "Decision Tree Accuracy: 0.974025974025974\n",
            "Support Vector Machine Accuracy: 0.6753246753246753\n",
            "Random Forest Accuracy: 1.0\n",
            "Neural Network Accuracy: 0.935064935064935\n"
          ]
        },
        {
          "output_type": "stream",
          "name": "stderr",
          "text": [
            "/usr/local/lib/python3.10/dist-packages/sklearn/neural_network/_multilayer_perceptron.py:686: ConvergenceWarning: Stochastic Optimizer: Maximum iterations (200) reached and the optimization hasn't converged yet.\n",
            "  warnings.warn(\n"
          ]
        }
      ]
    },
    {
      "cell_type": "code",
      "source": [
        "import pandas as pd\n",
        "from sklearn.model_selection import train_test_split\n",
        "from sklearn.linear_model import LogisticRegression\n",
        "from sklearn.tree import DecisionTreeClassifier\n",
        "from sklearn.svm import SVC\n",
        "from sklearn.ensemble import RandomForestClassifier\n",
        "from sklearn.neural_network import MLPClassifier\n",
        "from sklearn.metrics import accuracy_score\n",
        "\n",
        "\n",
        "df = pd.read_csv('systematic_sample.csv')\n",
        "\n",
        "\n",
        "X = df.drop('Class', axis=1)\n",
        "y = df['Class']\n",
        "\n",
        "X_train, X_test, y_train, y_test = train_test_split(X, y, test_size=0.2, random_state=42)\n",
        "\n",
        "# Train models\n",
        "logistic_model = LogisticRegression()\n",
        "logistic_model.fit(X_train, y_train)\n",
        "\n",
        "tree_model = DecisionTreeClassifier()\n",
        "tree_model.fit(X_train, y_train)\n",
        "\n",
        "svm_model = SVC()\n",
        "svm_model.fit(X_train, y_train)\n",
        "\n",
        "rf_model = RandomForestClassifier()\n",
        "rf_model.fit(X_train, y_train)\n",
        "\n",
        "nn_model = MLPClassifier()\n",
        "nn_model.fit(X_train, y_train)\n",
        "\n",
        "# Evaluate models\n",
        "logistic_accuracy = accuracy_score(y_test, logistic_model.predict(X_test))\n",
        "tree_accuracy = accuracy_score(y_test, tree_model.predict(X_test))\n",
        "svm_accuracy = accuracy_score(y_test, svm_model.predict(X_test))\n",
        "rf_accuracy = accuracy_score(y_test, rf_model.predict(X_test))\n",
        "nn_accuracy = accuracy_score(y_test, nn_model.predict(X_test))\n",
        "\n",
        "# Compare model performances\n",
        "print(f'Logistic Regression Accuracy: {logistic_accuracy}')\n",
        "print(f'Decision Tree Accuracy: {tree_accuracy}')\n",
        "print(f'Support Vector Machine Accuracy: {svm_accuracy}')\n",
        "print(f'Random Forest Accuracy: {rf_accuracy}')\n",
        "print(f'Neural Network Accuracy: {nn_accuracy}')\n"
      ],
      "metadata": {
        "colab": {
          "base_uri": "https://localhost:8080/"
        },
        "id": "Mb7wRajGKkm9",
        "outputId": "0186aa14-8fbe-467d-e35d-620486366118"
      },
      "execution_count": 39,
      "outputs": [
        {
          "output_type": "stream",
          "name": "stderr",
          "text": [
            "/usr/local/lib/python3.10/dist-packages/sklearn/linear_model/_logistic.py:458: ConvergenceWarning: lbfgs failed to converge (status=1):\n",
            "STOP: TOTAL NO. of ITERATIONS REACHED LIMIT.\n",
            "\n",
            "Increase the number of iterations (max_iter) or scale the data as shown in:\n",
            "    https://scikit-learn.org/stable/modules/preprocessing.html\n",
            "Please also refer to the documentation for alternative solver options:\n",
            "    https://scikit-learn.org/stable/modules/linear_model.html#logistic-regression\n",
            "  n_iter_i = _check_optimize_result(\n"
          ]
        },
        {
          "output_type": "stream",
          "name": "stdout",
          "text": [
            "Logistic Regression Accuracy: 0.75\n",
            "Decision Tree Accuracy: 1.0\n",
            "Support Vector Machine Accuracy: 0.375\n",
            "Random Forest Accuracy: 1.0\n",
            "Neural Network Accuracy: 0.375\n"
          ]
        }
      ]
    },
    {
      "cell_type": "code",
      "source": [
        "import pandas as pd\n",
        "from sklearn.model_selection import train_test_split\n",
        "from sklearn.linear_model import LogisticRegression\n",
        "from sklearn.tree import DecisionTreeClassifier\n",
        "from sklearn.svm import SVC\n",
        "from sklearn.ensemble import RandomForestClassifier\n",
        "from sklearn.neural_network import MLPClassifier\n",
        "from sklearn.metrics import accuracy_score\n",
        "\n",
        "df = pd.read_csv('stratified_sample.csv')\n",
        "\n",
        "\n",
        "X = df.drop('Class', axis=1)\n",
        "y = df['Class']\n",
        "\n",
        "X_train, X_test, y_train, y_test = train_test_split(X, y, test_size=0.2, random_state=42)\n",
        "\n",
        "# Train models\n",
        "logistic_model = LogisticRegression()\n",
        "logistic_model.fit(X_train, y_train)\n",
        "\n",
        "tree_model = DecisionTreeClassifier()\n",
        "tree_model.fit(X_train, y_train)\n",
        "\n",
        "svm_model = SVC()\n",
        "svm_model.fit(X_train, y_train)\n",
        "\n",
        "rf_model = RandomForestClassifier()\n",
        "rf_model.fit(X_train, y_train)\n",
        "\n",
        "nn_model = MLPClassifier()\n",
        "nn_model.fit(X_train, y_train)\n",
        "\n",
        "# Evaluate models\n",
        "logistic_accuracy = accuracy_score(y_test, logistic_model.predict(X_test))\n",
        "tree_accuracy = accuracy_score(y_test, tree_model.predict(X_test))\n",
        "svm_accuracy = accuracy_score(y_test, svm_model.predict(X_test))\n",
        "rf_accuracy = accuracy_score(y_test, rf_model.predict(X_test))\n",
        "nn_accuracy = accuracy_score(y_test, nn_model.predict(X_test))\n",
        "\n",
        "# Compare model performances\n",
        "print(f'Logistic Regression Accuracy: {logistic_accuracy}')\n",
        "print(f'Decision Tree Accuracy: {tree_accuracy}')\n",
        "print(f'Support Vector Machine Accuracy: {svm_accuracy}')\n",
        "print(f'Random Forest Accuracy: {rf_accuracy}')\n",
        "print(f'Neural Network Accuracy: {nn_accuracy}')\n"
      ],
      "metadata": {
        "colab": {
          "base_uri": "https://localhost:8080/"
        },
        "id": "9YMc6znHLQGE",
        "outputId": "a4cd21da-9fb1-473f-cdd4-26dcef4317ca"
      },
      "execution_count": 41,
      "outputs": [
        {
          "output_type": "stream",
          "name": "stderr",
          "text": [
            "/usr/local/lib/python3.10/dist-packages/sklearn/linear_model/_logistic.py:458: ConvergenceWarning: lbfgs failed to converge (status=1):\n",
            "STOP: TOTAL NO. of ITERATIONS REACHED LIMIT.\n",
            "\n",
            "Increase the number of iterations (max_iter) or scale the data as shown in:\n",
            "    https://scikit-learn.org/stable/modules/preprocessing.html\n",
            "Please also refer to the documentation for alternative solver options:\n",
            "    https://scikit-learn.org/stable/modules/linear_model.html#logistic-regression\n",
            "  n_iter_i = _check_optimize_result(\n"
          ]
        },
        {
          "output_type": "stream",
          "name": "stdout",
          "text": [
            "Logistic Regression Accuracy: 0.875\n",
            "Decision Tree Accuracy: 1.0\n",
            "Support Vector Machine Accuracy: 0.6875\n",
            "Random Forest Accuracy: 0.9375\n",
            "Neural Network Accuracy: 0.875\n"
          ]
        },
        {
          "output_type": "stream",
          "name": "stderr",
          "text": [
            "/usr/local/lib/python3.10/dist-packages/sklearn/neural_network/_multilayer_perceptron.py:686: ConvergenceWarning: Stochastic Optimizer: Maximum iterations (200) reached and the optimization hasn't converged yet.\n",
            "  warnings.warn(\n"
          ]
        }
      ]
    },
    {
      "cell_type": "code",
      "source": [
        "import pandas as pd\n",
        "from sklearn.model_selection import train_test_split\n",
        "from sklearn.linear_model import LogisticRegression\n",
        "from sklearn.tree import DecisionTreeClassifier\n",
        "from sklearn.svm import SVC\n",
        "from sklearn.ensemble import RandomForestClassifier\n",
        "from sklearn.neural_network import MLPClassifier\n",
        "from sklearn.metrics import accuracy_score\n",
        "\n",
        "\n",
        "df = pd.read_csv('cluster_sample.csv')\n",
        "\n",
        "X = df.drop('Class', axis=1)\n",
        "y = df['Class']\n",
        "\n",
        "X_train, X_test, y_train, y_test = train_test_split(X, y, test_size=0.2, random_state=42)\n",
        "\n",
        "\n",
        "logistic_model = LogisticRegression()\n",
        "logistic_model.fit(X_train, y_train)\n",
        "\n",
        "tree_model = DecisionTreeClassifier()\n",
        "tree_model.fit(X_train, y_train)\n",
        "\n",
        "svm_model = SVC()\n",
        "svm_model.fit(X_train, y_train)\n",
        "\n",
        "rf_model = RandomForestClassifier()\n",
        "rf_model.fit(X_train, y_train)\n",
        "\n",
        "nn_model = MLPClassifier()\n",
        "nn_model.fit(X_train, y_train)\n",
        "\n",
        "# Evaluate models\n",
        "logistic_accuracy = accuracy_score(y_test, logistic_model.predict(X_test))\n",
        "tree_accuracy = accuracy_score(y_test, tree_model.predict(X_test))\n",
        "svm_accuracy = accuracy_score(y_test, svm_model.predict(X_test))\n",
        "rf_accuracy = accuracy_score(y_test, rf_model.predict(X_test))\n",
        "nn_accuracy = accuracy_score(y_test, nn_model.predict(X_test))\n",
        "\n",
        "# Compare model performances\n",
        "print(f'Logistic Regression Accuracy: {logistic_accuracy}')\n",
        "print(f'Decision Tree Accuracy: {tree_accuracy}')\n",
        "print(f'Support Vector Machine Accuracy: {svm_accuracy}')\n",
        "print(f'Random Forest Accuracy: {rf_accuracy}')\n",
        "print(f'Neural Network Accuracy: {nn_accuracy}')\n"
      ],
      "metadata": {
        "colab": {
          "base_uri": "https://localhost:8080/"
        },
        "id": "LEeg50aqLdeQ",
        "outputId": "0b8ff115-a19c-4224-b39f-1eae9bb835ec"
      },
      "execution_count": 42,
      "outputs": [
        {
          "output_type": "stream",
          "name": "stderr",
          "text": [
            "/usr/local/lib/python3.10/dist-packages/sklearn/linear_model/_logistic.py:458: ConvergenceWarning: lbfgs failed to converge (status=1):\n",
            "STOP: TOTAL NO. of ITERATIONS REACHED LIMIT.\n",
            "\n",
            "Increase the number of iterations (max_iter) or scale the data as shown in:\n",
            "    https://scikit-learn.org/stable/modules/preprocessing.html\n",
            "Please also refer to the documentation for alternative solver options:\n",
            "    https://scikit-learn.org/stable/modules/linear_model.html#logistic-regression\n",
            "  n_iter_i = _check_optimize_result(\n"
          ]
        },
        {
          "output_type": "stream",
          "name": "stdout",
          "text": [
            "Logistic Regression Accuracy: 0.9187922956793336\n",
            "Decision Tree Accuracy: 1.0\n",
            "Support Vector Machine Accuracy: 0.8921134825611661\n",
            "Random Forest Accuracy: 1.0\n",
            "Neural Network Accuracy: 0.9997397188964081\n"
          ]
        }
      ]
    },
    {
      "cell_type": "code",
      "source": [
        "import pandas as pd\n",
        "from sklearn.model_selection import train_test_split\n",
        "from sklearn.linear_model import LogisticRegression\n",
        "from sklearn.tree import DecisionTreeClassifier\n",
        "from sklearn.svm import SVC\n",
        "from sklearn.ensemble import RandomForestClassifier\n",
        "from sklearn.neural_network import MLPClassifier\n",
        "from sklearn.metrics import accuracy_score\n",
        "\n",
        "# Load the dataset (replace 'your_dataset.csv' with the actual file name)\n",
        "df = pd.read_csv('convenience_sample.csv')\n",
        "\n",
        "X = df.drop('Class', axis=1)\n",
        "y = df['Class']\n",
        "\n",
        "\n",
        "X_train, X_test, y_train, y_test = train_test_split(X, y, test_size=0.2, random_state=42)\n",
        "\n",
        "# Train models\n",
        "logistic_model = LogisticRegression()\n",
        "logistic_model.fit(X_train, y_train)\n",
        "\n",
        "tree_model = DecisionTreeClassifier()\n",
        "tree_model.fit(X_train, y_train)\n",
        "\n",
        "svm_model = SVC()\n",
        "svm_model.fit(X_train, y_train)\n",
        "\n",
        "rf_model = RandomForestClassifier()\n",
        "rf_model.fit(X_train, y_train)\n",
        "\n",
        "nn_model = MLPClassifier()\n",
        "nn_model.fit(X_train, y_train)\n",
        "\n",
        "# Evaluate models\n",
        "logistic_accuracy = accuracy_score(y_test, logistic_model.predict(X_test))\n",
        "tree_accuracy = accuracy_score(y_test, tree_model.predict(X_test))\n",
        "svm_accuracy = accuracy_score(y_test, svm_model.predict(X_test))\n",
        "rf_accuracy = accuracy_score(y_test, rf_model.predict(X_test))\n",
        "nn_accuracy = accuracy_score(y_test, nn_model.predict(X_test))\n",
        "\n",
        "# Compare model performances\n",
        "print(f'Logistic Regression Accuracy: {logistic_accuracy}')\n",
        "print(f'Decision Tree Accuracy: {tree_accuracy}')\n",
        "print(f'Support Vector Machine Accuracy: {svm_accuracy}')\n",
        "print(f'Random Forest Accuracy: {rf_accuracy}')\n",
        "print(f'Neural Network Accuracy: {nn_accuracy}')\n"
      ],
      "metadata": {
        "colab": {
          "base_uri": "https://localhost:8080/"
        },
        "id": "nZnOzCnOLloR",
        "outputId": "b054e37d-6539-4505-e68d-6088f004ed75"
      },
      "execution_count": 43,
      "outputs": [
        {
          "output_type": "stream",
          "name": "stderr",
          "text": [
            "/usr/local/lib/python3.10/dist-packages/sklearn/linear_model/_logistic.py:458: ConvergenceWarning: lbfgs failed to converge (status=1):\n",
            "STOP: TOTAL NO. of ITERATIONS REACHED LIMIT.\n",
            "\n",
            "Increase the number of iterations (max_iter) or scale the data as shown in:\n",
            "    https://scikit-learn.org/stable/modules/preprocessing.html\n",
            "Please also refer to the documentation for alternative solver options:\n",
            "    https://scikit-learn.org/stable/modules/linear_model.html#logistic-regression\n",
            "  n_iter_i = _check_optimize_result(\n"
          ]
        },
        {
          "output_type": "stream",
          "name": "stdout",
          "text": [
            "Logistic Regression Accuracy: 0.935064935064935\n",
            "Decision Tree Accuracy: 0.974025974025974\n",
            "Support Vector Machine Accuracy: 0.7272727272727273\n",
            "Random Forest Accuracy: 1.0\n",
            "Neural Network Accuracy: 0.948051948051948\n"
          ]
        },
        {
          "output_type": "stream",
          "name": "stderr",
          "text": [
            "/usr/local/lib/python3.10/dist-packages/sklearn/neural_network/_multilayer_perceptron.py:686: ConvergenceWarning: Stochastic Optimizer: Maximum iterations (200) reached and the optimization hasn't converged yet.\n",
            "  warnings.warn(\n"
          ]
        }
      ]
    },
    {
      "cell_type": "code",
      "source": [
        "import pandas as pd\n",
        "\n",
        "# Sample data with custom column names\n",
        "data = {'Sampling1': [ 0.922077922077922,0.974025974025974,0.6753246753246753,1.0,0.935064935064935],\n",
        "        'Sampling2': [ 0.75,1.0,0.375,1.0,0.375],\n",
        "        'Sampling3': [ 0.875,1.0,0.6875,0.9375,0.875],\n",
        "        'Sampling4': [0.9187922956793336,1.0,0.8921134825611661,1.0,0.9997397188964081],\n",
        "        'Sampling5': [ 0.935064935064935,0.974025974025974,0.7272727272727273,1.0,0.948051948051948]}\n",
        "\n",
        "\n",
        "index_names = ['M1', 'M2', 'M3', 'M4', 'M5']\n",
        "df = pd.DataFrame(data, index=index_names)\n",
        "\n",
        "\n",
        "print(\"Original DataFrame:\")\n",
        "print(df)\n",
        "\n",
        "csv_filename = 'result_data.csv'\n",
        "df.to_csv(csv_filename)\n",
        "\n",
        "print(f\"\\nDataFrame saved to '{csv_filename}'.\")\n"
      ],
      "metadata": {
        "colab": {
          "base_uri": "https://localhost:8080/"
        },
        "id": "EwuPQaE_Mude",
        "outputId": "16e4694d-531b-461a-b050-18599e20b6a3"
      },
      "execution_count": 45,
      "outputs": [
        {
          "output_type": "stream",
          "name": "stdout",
          "text": [
            "Original DataFrame:\n",
            "    Sampling1  Sampling2  Sampling3  Sampling4  Sampling5\n",
            "M1   0.922078      0.750     0.8750   0.918792   0.935065\n",
            "M2   0.974026      1.000     1.0000   1.000000   0.974026\n",
            "M3   0.675325      0.375     0.6875   0.892113   0.727273\n",
            "M4   1.000000      1.000     0.9375   1.000000   1.000000\n",
            "M5   0.935065      0.375     0.8750   0.999740   0.948052\n",
            "\n",
            "DataFrame saved to 'result_data.csv'.\n"
          ]
        }
      ]
    },
    {
      "cell_type": "code",
      "source": [
        "import pandas as pd\n",
        "\n",
        "# Load the CSV file into a DataFrame\n",
        "csv_filename = 'result_data.csv'\n",
        "df = pd.read_csv(csv_filename, index_col=0)\n",
        "\n",
        "\n",
        "print(\"Original DataFrame:\")\n",
        "print(df)\n",
        "\n",
        "\n",
        "max_x = df.idxmax(axis=0)\n",
        "max_y = df.idxmax(axis=1)\n",
        "\n",
        "print(\"\\nMaximum values along the X axis:\")\n",
        "print(max_x)\n",
        "\n",
        "print(\"\\nMaximum values along the Y axis:\")\n",
        "print(max_y)\n"
      ],
      "metadata": {
        "colab": {
          "base_uri": "https://localhost:8080/"
        },
        "id": "tyB8eRtSO6ce",
        "outputId": "4776845e-352b-47a9-b5aa-e4d5a1858e87"
      },
      "execution_count": 46,
      "outputs": [
        {
          "output_type": "stream",
          "name": "stdout",
          "text": [
            "Original DataFrame:\n",
            "    Sampling1  Sampling2  Sampling3  Sampling4  Sampling5\n",
            "M1   0.922078      0.750     0.8750   0.918792   0.935065\n",
            "M2   0.974026      1.000     1.0000   1.000000   0.974026\n",
            "M3   0.675325      0.375     0.6875   0.892113   0.727273\n",
            "M4   1.000000      1.000     0.9375   1.000000   1.000000\n",
            "M5   0.935065      0.375     0.8750   0.999740   0.948052\n",
            "\n",
            "Maximum values along the X axis:\n",
            "Sampling1    M4\n",
            "Sampling2    M2\n",
            "Sampling3    M2\n",
            "Sampling4    M2\n",
            "Sampling5    M4\n",
            "dtype: object\n",
            "\n",
            "Maximum values along the Y axis:\n",
            "M1    Sampling5\n",
            "M2    Sampling2\n",
            "M3    Sampling4\n",
            "M4    Sampling1\n",
            "M5    Sampling4\n",
            "dtype: object\n"
          ]
        }
      ]
    },
    {
      "cell_type": "code",
      "source": [
        "import pandas as pd\n",
        "\n",
        "csv_filename = 'result_data.csv'\n",
        "df = pd.read_csv(csv_filename, index_col=0)\n",
        "\n",
        "print(\"Original DataFrame:\")\n",
        "print(df)\n",
        "\n",
        "overall_max_position = df.stack().idxmax()\n",
        "overall_max_value = df.at[overall_max_position]\n",
        "\n",
        "print(\"\\nOverall maximum value in the entire table:\")\n",
        "print(f\"Value: {overall_max_value}\")\n",
        "print(f\"Row: {overall_max_position[0]}, Column: {overall_max_position[1]}\")\n"
      ],
      "metadata": {
        "colab": {
          "base_uri": "https://localhost:8080/"
        },
        "id": "3MFsrsVmPNfx",
        "outputId": "06b24d6e-2707-4197-d7d4-1564a704e1b7"
      },
      "execution_count": 49,
      "outputs": [
        {
          "output_type": "stream",
          "name": "stdout",
          "text": [
            "Original DataFrame:\n",
            "    Sampling1  Sampling2  Sampling3  Sampling4  Sampling5\n",
            "M1   0.922078      0.750     0.8750   0.918792   0.935065\n",
            "M2   0.974026      1.000     1.0000   1.000000   0.974026\n",
            "M3   0.675325      0.375     0.6875   0.892113   0.727273\n",
            "M4   1.000000      1.000     0.9375   1.000000   1.000000\n",
            "M5   0.935065      0.375     0.8750   0.999740   0.948052\n",
            "\n",
            "Overall maximum value in the entire table:\n",
            "Value: 1.0\n",
            "Row: M2, Column: Sampling2\n"
          ]
        }
      ]
    }
  ]
}